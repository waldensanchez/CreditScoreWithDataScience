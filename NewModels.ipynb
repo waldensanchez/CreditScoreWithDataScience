{
 "cells": [
  {
   "cell_type": "code",
   "execution_count": 1,
   "metadata": {},
   "outputs": [],
   "source": [
    "import pandas as pd\n",
    "from ModelTester import Models"
   ]
  },
  {
   "cell_type": "code",
   "execution_count": 2,
   "metadata": {},
   "outputs": [
    {
     "name": "stderr",
     "output_type": "stream",
     "text": [
      "c:\\Users\\PC\\anaconda3\\lib\\site-packages\\sklearn\\linear_model\\_logistic.py:458: ConvergenceWarning: lbfgs failed to converge (status=1):\n",
      "STOP: TOTAL NO. of ITERATIONS REACHED LIMIT.\n",
      "\n",
      "Increase the number of iterations (max_iter) or scale the data as shown in:\n",
      "    https://scikit-learn.org/stable/modules/preprocessing.html\n",
      "Please also refer to the documentation for alternative solver options:\n",
      "    https://scikit-learn.org/stable/modules/linear_model.html#logistic-regression\n",
      "  n_iter_i = _check_optimize_result(\n"
     ]
    },
    {
     "name": "stdout",
     "output_type": "stream",
     "text": [
      "Modelo: Random Forest Classifier\n",
      "Accuracy en Train: 1.0000\n",
      "Accuracy en Test: 0.7708\n",
      "----------------------------------------\n",
      "Modelo: HGBC\n",
      "Accuracy en Train: 0.7341\n",
      "Accuracy en Test: 0.7002\n",
      "----------------------------------------\n",
      "Modelo: K-Nearest Neighbors (weighted by distance)\n",
      "Accuracy en Train: 1.0000\n",
      "Accuracy en Test: 0.6967\n",
      "----------------------------------------\n",
      "Modelo: Decision Tree Classifier\n",
      "Accuracy en Train: 1.0000\n",
      "Accuracy en Test: 0.6891\n",
      "----------------------------------------\n",
      "Modelo: Gradient Boosting Classifier\n",
      "Accuracy en Train: 0.6773\n",
      "Accuracy en Test: 0.6673\n",
      "----------------------------------------\n",
      "Modelo: K-Nearest Neighbors (uniformly weighted)\n",
      "Accuracy en Train: 0.7842\n",
      "Accuracy en Test: 0.6625\n",
      "----------------------------------------\n",
      "Modelo: Multilayer Perceptron\n",
      "Accuracy en Train: 0.6281\n",
      "Accuracy en Test: 0.6253\n",
      "----------------------------------------\n",
      "Modelo: Linear Discriminant Analysis\n",
      "Accuracy en Train: 0.6050\n",
      "Accuracy en Test: 0.6021\n",
      "----------------------------------------\n",
      "Modelo: Logistic Regression\n",
      "Accuracy en Train: 0.5972\n",
      "Accuracy en Test: 0.5902\n",
      "----------------------------------------\n",
      "Modelo: Support Vector Classifier\n",
      "Accuracy en Train: 0.5947\n",
      "Accuracy en Test: 0.5884\n",
      "----------------------------------------\n",
      "Modelo: Ridge Classifier CV\n",
      "Accuracy en Train: 0.5848\n",
      "Accuracy en Test: 0.5781\n",
      "----------------------------------------\n",
      "Modelo: Stochastic Gradient Descent\n",
      "Accuracy en Train: 0.5380\n",
      "Accuracy en Test: 0.5379\n",
      "----------------------------------------\n"
     ]
    }
   ],
   "source": [
    "data = pd.read_csv('clean_train_data.csv').drop(['ID','Credit_Score'], axis = 1).dropna()\n",
    "models = Models(data)\n",
    "models.split_data()\n",
    "models.models_individual()"
   ]
  },
  {
   "cell_type": "code",
   "execution_count": 4,
   "metadata": {},
   "outputs": [
    {
     "data": {
      "text/plain": [
       "23661    2\n",
       "47105    2\n",
       "33518    3\n",
       "21163    2\n",
       "18126    2\n",
       "        ..\n",
       "29223    1\n",
       "53870    1\n",
       "41729    1\n",
       "6745     2\n",
       "71124    2\n",
       "Name: Score, Length: 19151, dtype: int64"
      ]
     },
     "execution_count": 4,
     "metadata": {},
     "output_type": "execute_result"
    }
   ],
   "source": [
    "models.y_test"
   ]
  },
  {
   "cell_type": "code",
   "execution_count": 5,
   "metadata": {},
   "outputs": [
    {
     "ename": "TypeError",
     "evalue": "stacking_manual() missing 1 required positional argument: 'y_test'",
     "output_type": "error",
     "traceback": [
      "\u001b[1;31m---------------------------------------------------------------------------\u001b[0m",
      "\u001b[1;31mTypeError\u001b[0m                                 Traceback (most recent call last)",
      "\u001b[1;32me:\\ITESO\\9\\Modelos de Credito\\Proyecto 2\\NewModels.ipynb Cell 4\u001b[0m line \u001b[0;36m1\n\u001b[1;32m----> <a href='vscode-notebook-cell:/e%3A/ITESO/9/Modelos%20de%20Credito/Proyecto%202/NewModels.ipynb#W3sZmlsZQ%3D%3D?line=0'>1</a>\u001b[0m models\u001b[39m.\u001b[39;49mStacking_manual()\n",
      "File \u001b[1;32me:\\ITESO\\9\\Modelos de Credito\\Proyecto 2\\ModelTester.py:36\u001b[0m, in \u001b[0;36mModels.Stacking_manual\u001b[1;34m(self)\u001b[0m\n\u001b[0;32m     35\u001b[0m \u001b[39mdef\u001b[39;00m \u001b[39mStacking_manual\u001b[39m(\u001b[39mself\u001b[39m):\n\u001b[1;32m---> 36\u001b[0m     \u001b[39mself\u001b[39m\u001b[39m.\u001b[39mStacking_manual \u001b[39m=\u001b[39m ModelFunctions\u001b[39m.\u001b[39;49mstacking_manual(\u001b[39mself\u001b[39;49m\u001b[39m.\u001b[39;49mMLP, \u001b[39mself\u001b[39;49m\u001b[39m.\u001b[39;49mSGD, \u001b[39mself\u001b[39;49m\u001b[39m.\u001b[39;49mKNC_u, \u001b[39mself\u001b[39;49m\u001b[39m.\u001b[39;49mKNC_d, \u001b[39mself\u001b[39;49m\u001b[39m.\u001b[39;49mDTC, \u001b[39mself\u001b[39;49m\u001b[39m.\u001b[39;49mRFC, \u001b[39mself\u001b[39;49m\u001b[39m.\u001b[39;49mLR, \u001b[39mself\u001b[39;49m\u001b[39m.\u001b[39;49mRC, \u001b[39mself\u001b[39;49m\u001b[39m.\u001b[39;49mLDA, \u001b[39mself\u001b[39;49m\u001b[39m.\u001b[39;49mGBC, \u001b[39mself\u001b[39;49m\u001b[39m.\u001b[39;49mSV, \u001b[39mself\u001b[39;49m\u001b[39m.\u001b[39;49mHGBC, \u001b[39mself\u001b[39;49m\u001b[39m.\u001b[39;49mX_train, \u001b[39mself\u001b[39;49m\u001b[39m.\u001b[39;49my_train, \u001b[39mself\u001b[39;49m\u001b[39m.\u001b[39;49mX_test, \u001b[39mself\u001b[39;49m\u001b[39m.\u001b[39;49my_test)\n",
      "\u001b[1;31mTypeError\u001b[0m: stacking_manual() missing 1 required positional argument: 'y_test'"
     ]
    }
   ],
   "source": [
    "models.Stacking_manual()"
   ]
  },
  {
   "cell_type": "code",
   "execution_count": null,
   "metadata": {},
   "outputs": [],
   "source": [
    "models.GBC_Bagging()"
   ]
  },
  {
   "cell_type": "code",
   "execution_count": null,
   "metadata": {},
   "outputs": [],
   "source": [
    "BaggingClassifier(GradientBoostingClassifier()).fit(X_train, y_train)\n",
    "    y_pred_bag = GBC_bag.predict(X_test)\n",
    "    print(classification_report(y_test, y_pred_bag))"
   ]
  }
 ],
 "metadata": {
  "kernelspec": {
   "display_name": ".venv",
   "language": "python",
   "name": "python3"
  },
  "language_info": {
   "codemirror_mode": {
    "name": "ipython",
    "version": 3
   },
   "file_extension": ".py",
   "mimetype": "text/x-python",
   "name": "python",
   "nbconvert_exporter": "python",
   "pygments_lexer": "ipython3",
   "version": "3.10.9"
  }
 },
 "nbformat": 4,
 "nbformat_minor": 2
}
