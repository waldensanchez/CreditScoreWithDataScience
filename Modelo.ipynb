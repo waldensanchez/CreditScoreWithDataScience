{
 "cells": [
  {
   "cell_type": "markdown",
   "metadata": {},
   "source": [
    "# Modelo de Puntuación Crediticia\n",
    "<img style=\"float: right; margin: 15px 15px 15px 15px;\" src=\"https://upload.wikimedia.org/wikipedia/commons/d/db/Logo_ITESO_normal.jpg\" title=\"git\" width=\"100\" height=\".99\">\n",
    "\n",
    "**Modelos de Crédito**\n",
    "\n",
    "#### Mtro. Rodolfo Slay Ramos\n",
    "\n",
    "\n",
    "### Equipo:\n",
    "##### Villaseñor Rubio, Andrés\n",
    "##### Ledezma Tamez, Mauricio \n",
    "##### Sánchez Paszko, José Walden\n"
   ]
  },
  {
   "cell_type": "markdown",
   "metadata": {},
   "source": [
    "<!DOCTYPE html>\n",
    "<html lang=\"en\">\n",
    "  <head>\n",
    "    <meta charset=\"UTF-8\" />\n",
    "    <meta name=\"viewport\" content=\"width=device-width, initial-scale=1.0\" />\n",
    "    <title>Absrtact</title>\n",
    "    <style>\n",
    "      .boxed {\n",
    "        background: #F2F2F2;\n",
    "        color: black;\n",
    "        border: 3px solid #535353;\n",
    "        margin: 0px auto;\n",
    "        padding: 10px;\n",
    "        border-radius: 10px;\n",
    "      }\n",
    "    </style>\n",
    "  </head>\n",
    "  <body>\n",
    "    <!-- This is the markup of your box, in simpler terms the content structure. -->\n",
    "    <div class=\"boxed\">\n",
    "      <h3> Abstract </h2>\n",
    "      <p> El modelo que se presentará a continuación utiliza el comportamiento histórico del cliente para determinar si es o no apto para recibir un nuevo crédito.\n",
    "      <br>\n",
    "      Cuenta con un accuracy de 33.59%.\n",
    "      </p>\n",
    "    </div>\n",
    "  </body>\n",
    "</html>"
   ]
  },
  {
   "cell_type": "markdown",
   "metadata": {},
   "source": [
    "## Índice\n",
    "1. [Introducción](#introduction)\n",
    "2. [Modelo](#model)\n",
    "    - [Datos necesarios](#model.1)\n",
    "    - [Supuestos](#model.2)\n",
    "    - [Uso del modelo](#model.3)\n",
    "    - [Desempeño](#model.4)\n",
    "3. [Conclusiones](#findings)"
   ]
  },
  {
   "cell_type": "markdown",
   "metadata": {},
   "source": [
    "<div id='introduction' class=\"alert alert-block alert-info\"/>\n",
    "\n",
    "## Introducción\n",
    "En esta sección hablaremos sobre lo que se verá a continuación así como los objetivos del proyecto."
   ]
  },
  {
   "cell_type": "markdown",
   "metadata": {},
   "source": [
    "**Introducción**\n",
    " \n",
    "La evaluación de la solvencia crediticia de individuos y empresas desempeña un papel crítico en el funcionamiento de la economía. Las instituciones financieras, prestamistas y empresas utilizan sistemas de puntuación crediticia para determinar el riesgo asociado con otorgar crédito a los solicitantes. Tradicionalmente, estos modelos de puntuación crediticia se basan en una serie de variables para evaluar la capacidad de un prestatario para cumplir con sus obligaciones crediticias.\n",
    " \n",
    "En este proyecto se desarrolló un modelo tradicional basado en una base de datos proporcionada por el profesor, donde se tuvo que llevar a cabo la limpieza y la selección de las variables que consideramos más significativas para poder determinar el score crediticio de un individuo.\n",
    "\n",
    "**Objetivos del Proyecto**\n",
    " \n",
    "Los objetivos fundamentales de este proyecto son:\n",
    " \n",
    " 1. Desarrollar un modelo de puntuación crediticia basado en datos de Excel previamente calificados.\n",
    " 2. Identificar las variables clave en las hojas de cálculo de Excel que tienen un impacto significativo en la capacidad de un individuo o empresa para cumplir con sus obligaciones crediticias.\n",
    " 3. Evaluar la precisión y la eficacia del modelo en la predicción de la solvencia crediticia."
   ]
  },
  {
   "cell_type": "markdown",
   "metadata": {},
   "source": [
    "<div id='model'  class=\"alert alert-block alert-info\"/>\n",
    "\n",
    "## Modelo\n",
    "Texto del segundo apartado"
   ]
  },
  {
   "cell_type": "markdown",
   "metadata": {},
   "source": [
    "<div id='model.1'/>\n",
    "\n",
    "### Datos necesarios\n",
    "Son los datos utilizados para crear el modelo, y los cuáles se necesitan para poder utilizarlo en un futuro"
   ]
  },
  {
   "cell_type": "markdown",
   "metadata": {},
   "source": [
    "**Limpieza y Selecion de Datos**\n",
    " \n",
    "Lo primero en lo que se centró nuestro equipo fue llevar a cabo una limpieza exhaustiva de todos los datos que nos parecían interesantes para explorar en nuestra base de datos. A partir de estos datos limpios, comenzamos a calcular índices de correlación para identificar cuáles son los datos más significativos a la hora de calcular el score crediticio.\n",
    " \n",
    "Durante este proceso de limpieza, eliminamos cualquier información redundante como a su vez hicimos un proceso para normalisar los outliners que hacian mucho ruido a la hora de hacer la predicion, lo que nos permitió trabajar con datos de mayor calidad. La selección de las variables más relevantes se basó en su impacto en la evaluación de la solvencia crediticia y en su capacidad para predecir el riesgo crediticio de los solicitantes.\n",
    " \n",
    "Al final al haber tantas variables que se podian utilizar decidimos basar nuestro modelo en el modelo FICO este siendo un modelo que se ha utilizado en el pasado con exito para esto mismo.\n",
    "\n",
    " **MODELO FICO**\n",
    " \n",
    "Este método de valoración fue presentado en el año 1989 y su denominación responde a las siglas de Fair, Isaac and Company.\n",
    "En su origen se consolidó rápidamente como un modelo pionero como elemento evaluador o calificador utilizando como raíz los datos históricos de agentes prestamistas.\n",
    " \n",
    "Frente a otros modelos de evaluación crediticia, el puntaje FICO se diseña por medio de las siguientes variables relevantes:\n",
    " \n",
    "1. **Historial de pagos**: Evalúa la capacidad anterior de pago hasta la fecha. Supone el 35% de la puntuación final.\n",
    "2. **Utilización del crédito**: Mide el empleo realizado del crédito recibido. Esta variable cuenta con un peso del 30%.\n",
    "3. **Longitud del historial del crédito**: Si el deudor es receptor habitual de financiación a crédito, el porcentaje aumentará. Supone el 15% de la nota.\n",
    "4. **Nuevos créditos**: Dicha variable se dirige a evaluar la concentración o asunción de diversas deudas. En este caso se trataría de un 10%.\n",
    "5. **Tipos de crédito utilizados** Trata de evaluar la experiencia del deudor a la hora de afrontar deudas de distintas naturalezas y riesgos crediticios. Suma hasta un 10% de la nota final. \n",
    "\n",
    "**NUEVO MODELO** \n",
    " \n",
    "Basandonos en el modelo FICO decidimos utilizar las variables que mas se parecian para poder tener un buen punto de inicio e ir tabajando sobre el mismo pero el factor diferencial siendo el peso que le aplicamos a cada variable\n",
    "las variables que suamos fueron las siguientes:\n",
    " \n",
    "1. **Outstanding Debt**: Evalúa la cantidad de deuda que tiene hasta la fecha.\n",
    "2. **Delay_from_due_date**: Mide los atrasos que tiene en el buro\n",
    "3. **Credit History Age**: Si el deudor es receptor habitual de financiación a crédito, el porcentaje aumentará. \n",
    "4. **Number of Credit Card s**: mide la capacidad de manejar el  credito del deudor\n",
    "5. **Number of Loans** Trata de evaluar la experiencia del deudor a la hora de afrontar deudas de distintas naturalezas y riesgos crediticios."
   ]
  },
  {
   "cell_type": "markdown",
   "metadata": {},
   "source": [
    "**Datos**\n",
    "\n",
    "La información con la que contamos viene de esta forma:"
   ]
  },
  {
   "cell_type": "code",
   "execution_count": 1,
   "metadata": {
    "tags": [
     "hide-input"
    ]
   },
   "outputs": [
    {
     "data": {
      "text/html": [
       "<div>\n",
       "<style scoped>\n",
       "    .dataframe tbody tr th:only-of-type {\n",
       "        vertical-align: middle;\n",
       "    }\n",
       "\n",
       "    .dataframe tbody tr th {\n",
       "        vertical-align: top;\n",
       "    }\n",
       "\n",
       "    .dataframe thead th {\n",
       "        text-align: right;\n",
       "    }\n",
       "</style>\n",
       "<table border=\"1\" class=\"dataframe\">\n",
       "  <thead>\n",
       "    <tr style=\"text-align: right;\">\n",
       "      <th></th>\n",
       "      <th>ID</th>\n",
       "      <th>Customer_ID</th>\n",
       "      <th>Month</th>\n",
       "      <th>Name</th>\n",
       "      <th>Age</th>\n",
       "      <th>SSN</th>\n",
       "      <th>Occupation</th>\n",
       "      <th>Annual_Income</th>\n",
       "      <th>Monthly_Inhand_Salary</th>\n",
       "      <th>Num_Bank_Accounts</th>\n",
       "      <th>...</th>\n",
       "      <th>Credit_Mix</th>\n",
       "      <th>Outstanding_Debt</th>\n",
       "      <th>Credit_Utilization_Ratio</th>\n",
       "      <th>Credit_History_Age</th>\n",
       "      <th>Payment_of_Min_Amount</th>\n",
       "      <th>Total_EMI_per_month</th>\n",
       "      <th>Amount_invested_monthly</th>\n",
       "      <th>Payment_Behaviour</th>\n",
       "      <th>Monthly_Balance</th>\n",
       "      <th>Credit_Score</th>\n",
       "    </tr>\n",
       "  </thead>\n",
       "  <tbody>\n",
       "    <tr>\n",
       "      <th>0</th>\n",
       "      <td>0x1602</td>\n",
       "      <td>CUS_0xd40</td>\n",
       "      <td>January</td>\n",
       "      <td>Aaron Maashoh</td>\n",
       "      <td>23</td>\n",
       "      <td>821-00-0265</td>\n",
       "      <td>Scientist</td>\n",
       "      <td>19114.12</td>\n",
       "      <td>1824.843333</td>\n",
       "      <td>3</td>\n",
       "      <td>...</td>\n",
       "      <td>_</td>\n",
       "      <td>809.98</td>\n",
       "      <td>26.822620</td>\n",
       "      <td>22 Years and 1 Months</td>\n",
       "      <td>No</td>\n",
       "      <td>49.574949</td>\n",
       "      <td>80.41529543900253</td>\n",
       "      <td>High_spent_Small_value_payments</td>\n",
       "      <td>312.49408867943663</td>\n",
       "      <td>Good</td>\n",
       "    </tr>\n",
       "    <tr>\n",
       "      <th>1</th>\n",
       "      <td>0x1603</td>\n",
       "      <td>CUS_0xd40</td>\n",
       "      <td>February</td>\n",
       "      <td>Aaron Maashoh</td>\n",
       "      <td>23</td>\n",
       "      <td>821-00-0265</td>\n",
       "      <td>Scientist</td>\n",
       "      <td>19114.12</td>\n",
       "      <td>NaN</td>\n",
       "      <td>3</td>\n",
       "      <td>...</td>\n",
       "      <td>Good</td>\n",
       "      <td>809.98</td>\n",
       "      <td>31.944960</td>\n",
       "      <td>NaN</td>\n",
       "      <td>No</td>\n",
       "      <td>49.574949</td>\n",
       "      <td>118.28022162236736</td>\n",
       "      <td>Low_spent_Large_value_payments</td>\n",
       "      <td>284.62916249607184</td>\n",
       "      <td>Good</td>\n",
       "    </tr>\n",
       "    <tr>\n",
       "      <th>2</th>\n",
       "      <td>0x1604</td>\n",
       "      <td>CUS_0xd40</td>\n",
       "      <td>March</td>\n",
       "      <td>Aaron Maashoh</td>\n",
       "      <td>-500</td>\n",
       "      <td>821-00-0265</td>\n",
       "      <td>Scientist</td>\n",
       "      <td>19114.12</td>\n",
       "      <td>NaN</td>\n",
       "      <td>3</td>\n",
       "      <td>...</td>\n",
       "      <td>Good</td>\n",
       "      <td>809.98</td>\n",
       "      <td>28.609352</td>\n",
       "      <td>22 Years and 3 Months</td>\n",
       "      <td>No</td>\n",
       "      <td>49.574949</td>\n",
       "      <td>81.699521264648</td>\n",
       "      <td>Low_spent_Medium_value_payments</td>\n",
       "      <td>331.2098628537912</td>\n",
       "      <td>Good</td>\n",
       "    </tr>\n",
       "    <tr>\n",
       "      <th>3</th>\n",
       "      <td>0x1605</td>\n",
       "      <td>CUS_0xd40</td>\n",
       "      <td>April</td>\n",
       "      <td>Aaron Maashoh</td>\n",
       "      <td>23</td>\n",
       "      <td>821-00-0265</td>\n",
       "      <td>Scientist</td>\n",
       "      <td>19114.12</td>\n",
       "      <td>NaN</td>\n",
       "      <td>3</td>\n",
       "      <td>...</td>\n",
       "      <td>Good</td>\n",
       "      <td>809.98</td>\n",
       "      <td>31.377862</td>\n",
       "      <td>22 Years and 4 Months</td>\n",
       "      <td>No</td>\n",
       "      <td>49.574949</td>\n",
       "      <td>199.4580743910713</td>\n",
       "      <td>Low_spent_Small_value_payments</td>\n",
       "      <td>223.45130972736786</td>\n",
       "      <td>Good</td>\n",
       "    </tr>\n",
       "    <tr>\n",
       "      <th>4</th>\n",
       "      <td>0x1606</td>\n",
       "      <td>CUS_0xd40</td>\n",
       "      <td>May</td>\n",
       "      <td>Aaron Maashoh</td>\n",
       "      <td>23</td>\n",
       "      <td>821-00-0265</td>\n",
       "      <td>Scientist</td>\n",
       "      <td>19114.12</td>\n",
       "      <td>1824.843333</td>\n",
       "      <td>3</td>\n",
       "      <td>...</td>\n",
       "      <td>Good</td>\n",
       "      <td>809.98</td>\n",
       "      <td>24.797347</td>\n",
       "      <td>22 Years and 5 Months</td>\n",
       "      <td>No</td>\n",
       "      <td>49.574949</td>\n",
       "      <td>41.420153086217326</td>\n",
       "      <td>High_spent_Medium_value_payments</td>\n",
       "      <td>341.48923103222177</td>\n",
       "      <td>Good</td>\n",
       "    </tr>\n",
       "  </tbody>\n",
       "</table>\n",
       "<p>5 rows × 28 columns</p>\n",
       "</div>"
      ],
      "text/plain": [
       "       ID Customer_ID     Month           Name   Age          SSN Occupation  \\\n",
       "0  0x1602   CUS_0xd40   January  Aaron Maashoh    23  821-00-0265  Scientist   \n",
       "1  0x1603   CUS_0xd40  February  Aaron Maashoh    23  821-00-0265  Scientist   \n",
       "2  0x1604   CUS_0xd40     March  Aaron Maashoh  -500  821-00-0265  Scientist   \n",
       "3  0x1605   CUS_0xd40     April  Aaron Maashoh    23  821-00-0265  Scientist   \n",
       "4  0x1606   CUS_0xd40       May  Aaron Maashoh    23  821-00-0265  Scientist   \n",
       "\n",
       "  Annual_Income  Monthly_Inhand_Salary  Num_Bank_Accounts  ...  Credit_Mix  \\\n",
       "0      19114.12            1824.843333                  3  ...           _   \n",
       "1      19114.12                    NaN                  3  ...        Good   \n",
       "2      19114.12                    NaN                  3  ...        Good   \n",
       "3      19114.12                    NaN                  3  ...        Good   \n",
       "4      19114.12            1824.843333                  3  ...        Good   \n",
       "\n",
       "   Outstanding_Debt Credit_Utilization_Ratio     Credit_History_Age  \\\n",
       "0            809.98                26.822620  22 Years and 1 Months   \n",
       "1            809.98                31.944960                    NaN   \n",
       "2            809.98                28.609352  22 Years and 3 Months   \n",
       "3            809.98                31.377862  22 Years and 4 Months   \n",
       "4            809.98                24.797347  22 Years and 5 Months   \n",
       "\n",
       "   Payment_of_Min_Amount Total_EMI_per_month Amount_invested_monthly  \\\n",
       "0                     No           49.574949       80.41529543900253   \n",
       "1                     No           49.574949      118.28022162236736   \n",
       "2                     No           49.574949         81.699521264648   \n",
       "3                     No           49.574949       199.4580743910713   \n",
       "4                     No           49.574949      41.420153086217326   \n",
       "\n",
       "                  Payment_Behaviour     Monthly_Balance Credit_Score  \n",
       "0   High_spent_Small_value_payments  312.49408867943663         Good  \n",
       "1    Low_spent_Large_value_payments  284.62916249607184         Good  \n",
       "2   Low_spent_Medium_value_payments   331.2098628537912         Good  \n",
       "3    Low_spent_Small_value_payments  223.45130972736786         Good  \n",
       "4  High_spent_Medium_value_payments  341.48923103222177         Good  \n",
       "\n",
       "[5 rows x 28 columns]"
      ]
     },
     "execution_count": 1,
     "metadata": {},
     "output_type": "execute_result"
    }
   ],
   "source": [
    "import warnings\n",
    "import numpy as np\n",
    "import pandas as pd\n",
    "import matplotlib.pyplot as plt\n",
    "from main import modelWAM\n",
    "\n",
    "warnings.filterwarnings('ignore')\n",
    "\n",
    "data = pd.read_csv('train.csv')\n",
    "modelo = modelWAM(data)\n",
    "modelo.df.head()"
   ]
  },
  {
   "cell_type": "markdown",
   "metadata": {},
   "source": [
    "Los datos después de limpiarlos quedan así, lo que ya nos permite estudiarlos para determinar el modelo."
   ]
  },
  {
   "cell_type": "code",
   "execution_count": 2,
   "metadata": {
    "tags": [
     "hide-input"
    ]
   },
   "outputs": [
    {
     "data": {
      "text/html": [
       "<div>\n",
       "<style scoped>\n",
       "    .dataframe tbody tr th:only-of-type {\n",
       "        vertical-align: middle;\n",
       "    }\n",
       "\n",
       "    .dataframe tbody tr th {\n",
       "        vertical-align: top;\n",
       "    }\n",
       "\n",
       "    .dataframe thead th {\n",
       "        text-align: right;\n",
       "    }\n",
       "</style>\n",
       "<table border=\"1\" class=\"dataframe\">\n",
       "  <thead>\n",
       "    <tr style=\"text-align: right;\">\n",
       "      <th></th>\n",
       "      <th>Monthly_Inhand_Salary</th>\n",
       "      <th>Num_Credit_Card</th>\n",
       "      <th>Num_of_Loan</th>\n",
       "      <th>Delay_from_due_date</th>\n",
       "      <th>Num_of_Delayed_Payment</th>\n",
       "      <th>Num_Credit_Inquiries</th>\n",
       "      <th>Outstanding_Debt</th>\n",
       "      <th>Credit_Utilization_Ratio</th>\n",
       "      <th>Credit_History_Age</th>\n",
       "      <th>Monthly_Balance</th>\n",
       "      <th>Credit_Score</th>\n",
       "      <th>Score</th>\n",
       "    </tr>\n",
       "    <tr>\n",
       "      <th>ID</th>\n",
       "      <th></th>\n",
       "      <th></th>\n",
       "      <th></th>\n",
       "      <th></th>\n",
       "      <th></th>\n",
       "      <th></th>\n",
       "      <th></th>\n",
       "      <th></th>\n",
       "      <th></th>\n",
       "      <th></th>\n",
       "      <th></th>\n",
       "      <th></th>\n",
       "    </tr>\n",
       "  </thead>\n",
       "  <tbody>\n",
       "    <tr>\n",
       "      <th>0x1602</th>\n",
       "      <td>1824.843333</td>\n",
       "      <td>4</td>\n",
       "      <td>4</td>\n",
       "      <td>3</td>\n",
       "      <td>7.0</td>\n",
       "      <td>4.0</td>\n",
       "      <td>809.98</td>\n",
       "      <td>26.822620</td>\n",
       "      <td>22.0</td>\n",
       "      <td>312.494089</td>\n",
       "      <td>Good</td>\n",
       "      <td>3</td>\n",
       "    </tr>\n",
       "    <tr>\n",
       "      <th>0x1603</th>\n",
       "      <td>1824.843333</td>\n",
       "      <td>4</td>\n",
       "      <td>4</td>\n",
       "      <td>-1</td>\n",
       "      <td>7.0</td>\n",
       "      <td>4.0</td>\n",
       "      <td>809.98</td>\n",
       "      <td>31.944960</td>\n",
       "      <td>22.0</td>\n",
       "      <td>284.629162</td>\n",
       "      <td>Good</td>\n",
       "      <td>3</td>\n",
       "    </tr>\n",
       "    <tr>\n",
       "      <th>0x1604</th>\n",
       "      <td>1824.843333</td>\n",
       "      <td>4</td>\n",
       "      <td>4</td>\n",
       "      <td>3</td>\n",
       "      <td>7.0</td>\n",
       "      <td>4.0</td>\n",
       "      <td>809.98</td>\n",
       "      <td>28.609352</td>\n",
       "      <td>22.0</td>\n",
       "      <td>331.209863</td>\n",
       "      <td>Good</td>\n",
       "      <td>3</td>\n",
       "    </tr>\n",
       "    <tr>\n",
       "      <th>0x1605</th>\n",
       "      <td>1824.843333</td>\n",
       "      <td>4</td>\n",
       "      <td>4</td>\n",
       "      <td>5</td>\n",
       "      <td>4.0</td>\n",
       "      <td>4.0</td>\n",
       "      <td>809.98</td>\n",
       "      <td>31.377862</td>\n",
       "      <td>22.0</td>\n",
       "      <td>223.451310</td>\n",
       "      <td>Good</td>\n",
       "      <td>3</td>\n",
       "    </tr>\n",
       "    <tr>\n",
       "      <th>0x1606</th>\n",
       "      <td>1824.843333</td>\n",
       "      <td>4</td>\n",
       "      <td>4</td>\n",
       "      <td>6</td>\n",
       "      <td>4.0</td>\n",
       "      <td>4.0</td>\n",
       "      <td>809.98</td>\n",
       "      <td>24.797347</td>\n",
       "      <td>22.0</td>\n",
       "      <td>341.489231</td>\n",
       "      <td>Good</td>\n",
       "      <td>3</td>\n",
       "    </tr>\n",
       "  </tbody>\n",
       "</table>\n",
       "</div>"
      ],
      "text/plain": [
       "        Monthly_Inhand_Salary  Num_Credit_Card  Num_of_Loan  \\\n",
       "ID                                                            \n",
       "0x1602            1824.843333                4            4   \n",
       "0x1603            1824.843333                4            4   \n",
       "0x1604            1824.843333                4            4   \n",
       "0x1605            1824.843333                4            4   \n",
       "0x1606            1824.843333                4            4   \n",
       "\n",
       "        Delay_from_due_date  Num_of_Delayed_Payment  Num_Credit_Inquiries  \\\n",
       "ID                                                                          \n",
       "0x1602                    3                     7.0                   4.0   \n",
       "0x1603                   -1                     7.0                   4.0   \n",
       "0x1604                    3                     7.0                   4.0   \n",
       "0x1605                    5                     4.0                   4.0   \n",
       "0x1606                    6                     4.0                   4.0   \n",
       "\n",
       "        Outstanding_Debt  Credit_Utilization_Ratio  Credit_History_Age  \\\n",
       "ID                                                                       \n",
       "0x1602            809.98                 26.822620                22.0   \n",
       "0x1603            809.98                 31.944960                22.0   \n",
       "0x1604            809.98                 28.609352                22.0   \n",
       "0x1605            809.98                 31.377862                22.0   \n",
       "0x1606            809.98                 24.797347                22.0   \n",
       "\n",
       "        Monthly_Balance Credit_Score  Score  \n",
       "ID                                           \n",
       "0x1602       312.494089         Good      3  \n",
       "0x1603       284.629162         Good      3  \n",
       "0x1604       331.209863         Good      3  \n",
       "0x1605       223.451310         Good      3  \n",
       "0x1606       341.489231         Good      3  "
      ]
     },
     "execution_count": 2,
     "metadata": {},
     "output_type": "execute_result"
    }
   ],
   "source": [
    "modelo.cleanData()\n",
    "modelo.df.head()"
   ]
  },
  {
   "cell_type": "markdown",
   "metadata": {},
   "source": [
    "<div id='model.2'/>\n",
    "\n",
    "### Supuestos\n",
    "Cosas que el modelo asume siempre serán así."
   ]
  },
  {
   "cell_type": "markdown",
   "metadata": {},
   "source": [
    "- El modelo asume que ya tiene historial crediticio, si no penalizará al cliente aunque sea un buen pagador.\n",
    "- Se asume que el futuro será igual al pasado, por lo que si el cliente pagó a tiempo sus deudas, lo hará en un futuro.\n",
    "- Asume que sus ingresos son estables, dado que no se toma en cuenta el origen de sus ingresos.\n",
    "- La muestra de entrenamiento es representativa sobre la población."
   ]
  },
  {
   "cell_type": "markdown",
   "metadata": {},
   "source": [
    "<div id='model.3'/>\n",
    "\n",
    "### Uso del modelo\n",
    "En este caso, lo que utilizamos fue tomar los datos históricos proporcionados y los segmentamos en tres grupos, dependiendo de la variable tomábamos los cuantiles del 20% y 70% si queríamos que las personas estuvieran bajos en esa variable; y 30% y 80% si queríamos que estuvieran altos en esa variable. De esta forma, podíamos penalizar a aquellas personas que estuvieran en los cuantiles correspondientes a un comportamiento pobre.\n",
    "\n",
    "En este primer acercamiento, dicidimos hacer que todas las variables tuvieran el mismo impacto, donde las personas que en esa variable tengan un comportamiento como el que esperamos que tendría alguien clasificado en poor perdería 50 puntos. Si se encuentra en la región de un comportamiento standard se le penaliza con 20 puntos y finalmente si se encuentra en el rango de good no se le aplica penalización. De esta forma, nuestro Score que inicia en 1000 puede sufrir máximo una penalización de 500 puntos."
   ]
  },
  {
   "cell_type": "code",
   "execution_count": 3,
   "metadata": {
    "tags": [
     "hide-input"
    ]
   },
   "outputs": [
    {
     "data": {
      "text/html": [
       "<div>\n",
       "<style scoped>\n",
       "    .dataframe tbody tr th:only-of-type {\n",
       "        vertical-align: middle;\n",
       "    }\n",
       "\n",
       "    .dataframe tbody tr th {\n",
       "        vertical-align: top;\n",
       "    }\n",
       "\n",
       "    .dataframe thead th {\n",
       "        text-align: right;\n",
       "    }\n",
       "</style>\n",
       "<table border=\"1\" class=\"dataframe\">\n",
       "  <thead>\n",
       "    <tr style=\"text-align: right;\">\n",
       "      <th></th>\n",
       "      <th>Score_Predicted_in_points</th>\n",
       "      <th>Score_Predicted_in_bracket</th>\n",
       "    </tr>\n",
       "    <tr>\n",
       "      <th>ID</th>\n",
       "      <th></th>\n",
       "      <th></th>\n",
       "    </tr>\n",
       "  </thead>\n",
       "  <tbody>\n",
       "    <tr>\n",
       "      <th>0x1602</th>\n",
       "      <td>728</td>\n",
       "      <td>2</td>\n",
       "    </tr>\n",
       "    <tr>\n",
       "      <th>0x1603</th>\n",
       "      <td>708</td>\n",
       "      <td>2</td>\n",
       "    </tr>\n",
       "    <tr>\n",
       "      <th>0x1604</th>\n",
       "      <td>708</td>\n",
       "      <td>2</td>\n",
       "    </tr>\n",
       "    <tr>\n",
       "      <th>0x1605</th>\n",
       "      <td>708</td>\n",
       "      <td>2</td>\n",
       "    </tr>\n",
       "    <tr>\n",
       "      <th>0x1606</th>\n",
       "      <td>728</td>\n",
       "      <td>2</td>\n",
       "    </tr>\n",
       "  </tbody>\n",
       "</table>\n",
       "</div>"
      ],
      "text/plain": [
       "        Score_Predicted_in_points  Score_Predicted_in_bracket\n",
       "ID                                                           \n",
       "0x1602                        728                           2\n",
       "0x1603                        708                           2\n",
       "0x1604                        708                           2\n",
       "0x1605                        708                           2\n",
       "0x1606                        728                           2"
      ]
     },
     "execution_count": 3,
     "metadata": {},
     "output_type": "execute_result"
    }
   ],
   "source": [
    "modelo.prediction()\n",
    "modelo.df[['Score_Predicted_in_points','Score_Predicted_in_bracket']].head()"
   ]
  },
  {
   "cell_type": "code",
   "execution_count": 4,
   "metadata": {
    "tags": [
     "hide-input"
    ]
   },
   "outputs": [
    {
     "data": {
      "text/plain": [
       "<Axes: >"
      ]
     },
     "execution_count": 4,
     "metadata": {},
     "output_type": "execute_result"
    },
    {
     "data": {
      "image/png": "[encoded data removed]",
      "text/plain": [
       "<Figure size 640x480 with 1 Axes>"
      ]
     },
     "metadata": {},
     "output_type": "display_data"
    }
   ],
   "source": [
    "modelo.df[['Score_Predicted_in_points','Score_Predicted_in_bracket']]['Score_Predicted_in_bracket'].hist(bins = 50)"
   ]
  },
  {
   "cell_type": "markdown",
   "metadata": {},
   "source": [
    "<div id='model.4'/>\n",
    "\n",
    "### Desempeño\n",
    "En este caso, el modelo tuvo una precisión bastante baja del 33.5%, esto debido a que estamos considerando que todas las variables impactan de la misma manera. Sin embargo, es facilmente mejorable aplicando algoritmos de optimización como el Particle Swarm Optimization (POS) para encontrar los pesos necesarios para calibrarlo."
   ]
  },
  {
   "cell_type": "code",
   "execution_count": 5,
   "metadata": {
    "tags": [
     "hide-input"
    ]
   },
   "outputs": [
    {
     "name": "stdout",
     "output_type": "stream",
     "text": [
      "33.59%\n"
     ]
    }
   ],
   "source": [
    "print(f'{round(modelo.accuracy()*100,2)}%')"
   ]
  },
  {
   "cell_type": "markdown",
   "metadata": {},
   "source": [
    "<div id='findings' class=\"alert alert-block alert-info\" />\n",
    "\n",
    "## Conclusiones\n",
    "Retos encontrados y descubrimientos"
   ]
  },
  {
   "cell_type": "markdown",
   "metadata": {},
   "source": [
    "Este proyecto fue verdaderamente desafiante en múltiples aspectos. En primer lugar, nos enfrentamos al reto de adquirir información que fuese utilizable de manera efectiva. Los datos iniciales con los que contábamos requerían una laboriosa limpieza antes de poder utilizarlos en nuestro modelo. Fue fundamental distinguir entre errores en los datos, que debían corregirse, y datos válidos que simplemente se encontraban fuera de lo común (outliers), los cuales podían afectar significativamente nuestros resultados si no se manejaban adecuadamente.\n",
    "Además, la modelización resultó ser un proceso sumamente complicado. No podíamos simplemente asignar coeficientes a las variables y multiplicarlos para obtener un score crediticio. Nuestros intentos iniciales, como penalizar a los usuarios con 10 puntos por cada tarjeta de crédito adicional que poseían, no generaban resultados satisfactorios. Esto se debía a que la relación entre las variables y el score no era de naturaleza lineal. Así que, tuvimos que adoptar un enfoque más sofisticado y elaborar un modelo que capturara las relaciones complejas y no lineales entre las variables.\n",
    "\n",
    "En este sentido, otro desafío importante consistió en determinar el procedimiento correcto para definir los rangos (brackets) adecuados para cada variable y encontrar la ponderación precisa de cada una de ellas en el cálculo del score crediticio. Esta tarea requería un análisis minucioso y la consideración de múltiples factores, ya que la importancia de cada variable podía variar en función del contexto y del conjunto de datos.\n",
    "A pesar de los obstáculos, este proyecto nos permitió desarrollar un modelo sólido basado en el modelo FICO, que ha demostrado ser eficaz en la evaluación de la solvencia crediticia. Aprendimos la importancia de la limpieza de datos, la gestión de outliers y la necesidad de abordar las relaciones no lineales en nuestro enfoque. En resumen, este proyecto representó una valiosa experiencia en la aplicación de técnicas de análisis de datos y modelado en un contexto real y desafiante."
   ]
  }
 ],
 "metadata": {
  "kernelspec": {
   "display_name": "Python 3",
   "language": "python",
   "name": "python3"
  },
  "language_info": {
   "codemirror_mode": {
    "name": "ipython",
    "version": 3
   },
   "file_extension": ".py",
   "mimetype": "text/x-python",
   "name": "python",
   "nbconvert_exporter": "python",
   "pygments_lexer": "ipython3",
   "version": "3.9.13"
  },
  "orig_nbformat": 4
 },
 "nbformat": 4,
 "nbformat_minor": 2
}
